{
  "nbformat": 4,
  "nbformat_minor": 0,
  "metadata": {
    "colab": {
      "name": "How-to-use-Jupyter-Notebooks.ipynb",
      "provenance": [],
      "collapsed_sections": [],
      "toc_visible": true
    },
    "kernelspec": {
      "name": "python3",
      "display_name": "Python 3"
    },
    "accelerator": "GPU",
    "widgets": {
      "application/vnd.jupyter.widget-state+json": {
        "c4aa26caaccc4cc5b1d54273314adaa9": {
          "model_module": "@jupyter-widgets/controls",
          "model_name": "FileUploadModel",
          "state": {
            "_view_name": "FileUploadView",
            "_counter": 1,
            "style": "IPY_MODEL_7966720588614ff7aebeed10b06398e0",
            "_dom_classes": [],
            "description": "Upload",
            "multiple": false,
            "_model_name": "FileUploadModel",
            "data": [
              null
            ],
            "button_style": "",
            "_view_module": "@jupyter-widgets/controls",
            "_model_module_version": "1.5.0",
            "accept": "",
            "_view_count": null,
            "disabled": false,
            "_view_module_version": "1.5.0",
            "error": "",
            "description_tooltip": null,
            "metadata": [
              {
                "name": "cat.jpg",
                "type": "image/jpeg",
                "size": 33879,
                "lastModified": 1601285276509
              }
            ],
            "_model_module": "@jupyter-widgets/controls",
            "layout": "IPY_MODEL_ce123dca11864bd5a05d3517edbf5eaa",
            "icon": "upload"
          }
        },
        "7966720588614ff7aebeed10b06398e0": {
          "model_module": "@jupyter-widgets/controls",
          "model_name": "ButtonStyleModel",
          "state": {
            "_view_name": "StyleView",
            "_model_name": "ButtonStyleModel",
            "_view_module": "@jupyter-widgets/base",
            "_model_module_version": "1.5.0",
            "_view_count": null,
            "button_color": null,
            "font_weight": "",
            "_view_module_version": "1.2.0",
            "_model_module": "@jupyter-widgets/controls"
          }
        },
        "ce123dca11864bd5a05d3517edbf5eaa": {
          "model_module": "@jupyter-widgets/base",
          "model_name": "LayoutModel",
          "state": {
            "_view_name": "LayoutView",
            "grid_template_rows": null,
            "right": null,
            "justify_content": null,
            "_view_module": "@jupyter-widgets/base",
            "overflow": null,
            "_model_module_version": "1.2.0",
            "_view_count": null,
            "flex_flow": null,
            "width": null,
            "min_width": null,
            "border": null,
            "align_items": null,
            "bottom": null,
            "_model_module": "@jupyter-widgets/base",
            "top": null,
            "grid_column": null,
            "overflow_y": null,
            "overflow_x": null,
            "grid_auto_flow": null,
            "grid_area": null,
            "grid_template_columns": null,
            "flex": null,
            "_model_name": "LayoutModel",
            "justify_items": null,
            "grid_row": null,
            "max_height": null,
            "align_content": null,
            "visibility": null,
            "align_self": null,
            "height": null,
            "min_height": null,
            "padding": null,
            "grid_auto_rows": null,
            "grid_gap": null,
            "max_width": null,
            "order": null,
            "_view_module_version": "1.2.0",
            "grid_template_areas": null,
            "object_position": null,
            "object_fit": null,
            "grid_auto_columns": null,
            "margin": null,
            "display": null,
            "left": null
          }
        }
      }
    }
  },
  "cells": [
    {
      "cell_type": "markdown",
      "metadata": {
        "id": "f--ZBklNymCN"
      },
      "source": [
        "# Erste Übung in google's Colab Tool\n",
        "https://colab.research.google.com/\n",
        "\n",
        "Google colab ist ein Online Tool mit Jupyter ähnlicher Oberfläche. Mittels google colab haben wir Zugriff auf eine kostenlose GPU Laufzeitumgebung.\n",
        "\n",
        "**Wichtig für GPU**: Diese ist standardmäßig nicht aktiviert. Möchten wir also eine GPU verwenden, so müssen wir die Laufzeitumgebund im Menu `Laufzeit`-->'Laufzeittyp ändern' umstellen.\n",
        "\n",
        "Jedem Notebook wird eine eigene Laufzeitumgebung zugewiesen und für maximal 12 Stunden (24 in der kostenpflichtigen Pro-Version) ausgeführt. Danach werden alle Daten der Laufzeit zurückgesetzt!\n",
        "\n",
        "Wir können jedoch sehr einfach google drive einbinden und alle Ergebnisse direkt auf google drive sichern"
      ]
    },
    {
      "cell_type": "markdown",
      "metadata": {
        "id": "4yVAeQCVJSDH"
      },
      "source": [
        "**Wie Jupyter Notebooks auch, unterscheidet google colab zwischen zwei Typen von Zellen:**\n",
        "* Codezellen und \n",
        "* Textzellen\n",
        "\n",
        "**Codezellen** beinhalten Python Code und können direkt ausgeführt werden (`STRG`+`ENTER` bzw. `UMSCHALT` + `ENTER`). Wir sehen die Ausgabe des Codes direkt unter der Zellen.\n",
        "\n",
        "**Textzellen** beinhalten beliebigen Text und haben keine Auswirkung auf andere Codezellen. Innerhalb von Textzellen können wir *Markdown-Syntax* zur Formatierung des Textes verwenden. Hier ist eine Übersicht über die wichtigsten Markdown Befehle: https://www.markdownguide.org/basic-syntax"
      ]
    },
    {
      "cell_type": "code",
      "metadata": {
        "id": "RNb_OTXQyf49",
        "outputId": "6cc35d84-91a6-4da7-f806-abca31f72c4f",
        "colab": {
          "base_uri": "https://localhost:8080/",
          "height": 34
        }
      },
      "source": [
        "print(\"Hello World\")"
      ],
      "execution_count": 2,
      "outputs": [
        {
          "output_type": "stream",
          "text": [
            "Hello World\n"
          ],
          "name": "stdout"
        }
      ]
    },
    {
      "cell_type": "markdown",
      "metadata": {
        "id": "P4H9LPxoKMHB"
      },
      "source": [
        "Berechnungen können auch direkt in die Zellen geschrieben werden."
      ]
    },
    {
      "cell_type": "code",
      "metadata": {
        "id": "QQ7pDUro5jrT",
        "outputId": "c389be43-c840-430a-89b3-f4f97f144878",
        "colab": {
          "base_uri": "https://localhost:8080/",
          "height": 34
        }
      },
      "source": [
        "1+1"
      ],
      "execution_count": 8,
      "outputs": [
        {
          "output_type": "execute_result",
          "data": {
            "text/plain": [
              "2"
            ]
          },
          "metadata": {
            "tags": []
          },
          "execution_count": 8
        }
      ]
    },
    {
      "cell_type": "markdown",
      "metadata": {
        "id": "iVcNxMxZKSVv"
      },
      "source": [
        "Legen wir nun eine Variable an und lassen den Wert ausgeben."
      ]
    },
    {
      "cell_type": "code",
      "metadata": {
        "id": "bYfwIy0s6aDr",
        "outputId": "6af927c0-5aca-4b2c-a9d3-344e0b128c68",
        "colab": {
          "base_uri": "https://localhost:8080/",
          "height": 34
        }
      },
      "source": [
        "x = 1+1\n",
        "x"
      ],
      "execution_count": 9,
      "outputs": [
        {
          "output_type": "execute_result",
          "data": {
            "text/plain": [
              "2"
            ]
          },
          "metadata": {
            "tags": []
          },
          "execution_count": 9
        }
      ]
    },
    {
      "cell_type": "markdown",
      "metadata": {
        "id": "sYqLke3vKa_4"
      },
      "source": [
        "Verändern wir den Wert und geben die Variable erneut aus, so sehen wir den neuen Wert. Die Ausgabe aus der vorherigen Zellen verändert sich jedoch nicht. Jede Ausgabe einer ausgeführten Zelle bezieht sich immer auf jenen Zustand zum Zeitpunkt der Ausführung. Auch wenn sich inzwischen der Wert der Variablen `x` verändert hat, so bleibt die vorherige Ausgabe so lange bestehen, bis die Zelle erneut ausgeführt wird."
      ]
    },
    {
      "cell_type": "code",
      "metadata": {
        "id": "MPxAWQw76d1b"
      },
      "source": [
        "x += 1"
      ],
      "execution_count": 10,
      "outputs": []
    },
    {
      "cell_type": "code",
      "metadata": {
        "id": "e6OaBRuD6f57",
        "outputId": "77043af6-59ad-4434-8a56-4ec3fd74c1d9",
        "colab": {
          "base_uri": "https://localhost:8080/",
          "height": 34
        }
      },
      "source": [
        "x"
      ],
      "execution_count": 11,
      "outputs": [
        {
          "output_type": "execute_result",
          "data": {
            "text/plain": [
              "3"
            ]
          },
          "metadata": {
            "tags": []
          },
          "execution_count": 11
        }
      ]
    },
    {
      "cell_type": "markdown",
      "metadata": {
        "id": "ewtgVqmRK1iF"
      },
      "source": [
        "Notebooks sind ein unglaublich flexibles Tool. Wir können auch grafische Outputs des Quellcodes direkt innerhalb von Notebooks anzeigen. \n",
        "\n",
        "Legen wir nun einige Dummydaten an und erzeugen danach ein Diagramm."
      ]
    },
    {
      "cell_type": "code",
      "metadata": {
        "id": "X8a4Fzj96hF8",
        "outputId": "793bc6bf-c38f-4a9b-ee81-eb0f0196c143",
        "colab": {
          "base_uri": "https://localhost:8080/",
          "height": 34
        }
      },
      "source": [
        "a = 1\n",
        "b = a + 1\n",
        "c = b + a + 1\n",
        "d = c + b + a + 1\n",
        "a, b, c, d"
      ],
      "execution_count": 12,
      "outputs": [
        {
          "output_type": "execute_result",
          "data": {
            "text/plain": [
              "(1, 2, 4, 8)"
            ]
          },
          "metadata": {
            "tags": []
          },
          "execution_count": 12
        }
      ]
    },
    {
      "cell_type": "markdown",
      "metadata": {
        "id": "ezNBWDt6LDPE"
      },
      "source": [
        "Um beliebige Daten grafisch darzustellen, eignet sich in Python die Bibliothek `pyplot` aus dem Modul `matplotlib`. Importieren wir diese und rufen anschließend einfach die Methode `plot` mit unseren Dummy-Daten auf, so sehen wir unsere Daten als Funktion visualisiert."
      ]
    },
    {
      "cell_type": "code",
      "metadata": {
        "id": "8nmhcEw76xCL"
      },
      "source": [
        "import matplotlib.pyplot as plt"
      ],
      "execution_count": 13,
      "outputs": []
    },
    {
      "cell_type": "code",
      "metadata": {
        "id": "Z3nque4p62XN",
        "outputId": "a9bab016-c99f-4c15-dbdd-8b8b95801a59",
        "colab": {
          "base_uri": "https://localhost:8080/",
          "height": 282
        }
      },
      "source": [
        "plt.plot([a, b, c, d])"
      ],
      "execution_count": 14,
      "outputs": [
        {
          "output_type": "execute_result",
          "data": {
            "text/plain": [
              "[<matplotlib.lines.Line2D at 0x7fbd8de012b0>]"
            ]
          },
          "metadata": {
            "tags": []
          },
          "execution_count": 14
        },
        {
          "output_type": "display_data",
          "data": {
            "image/png": "[encoded data removed]",
            "text/plain": [
              "<Figure size 432x288 with 1 Axes>"
            ]
          },
          "metadata": {
            "tags": [],
            "needs_background": "light"
          }
        }
      ]
    },
    {
      "cell_type": "markdown",
      "metadata": {
        "id": "CNPBzTeyLW7x"
      },
      "source": [
        "## Interaktive Notebooks\n",
        "Mithilfe des Moduls `ipywidgets` können wir recht einfach und schnell auch grafische Benutzeroberflächen direkt in unsere Notebooks integrieren.\n",
        "\n",
        "Wir wollen nun einen File-Upload Dialog einfügen, mit dem wir eine Bilddatei hochladen und im Anschluß daran anzeigen können.\n",
        "\n",
        "Für die Anzeige der Bilddatei verwenden wir eine Klassen aus dem `fastai` Framework. Vor dem Import kann es erforderlich sein, das Framework zu aktualisieren. Dafür verwenden wir den Shell Befehl `pip install -U fastai`. Um Shell-Befehle in Notebooks ausführen zu können, müssen wir nur ein Rufzeichen vor den Befehlsaufruf stellen."
      ]
    },
    {
      "cell_type": "code",
      "metadata": {
        "id": "p6x0WVkwBf1l",
        "outputId": "46b141bc-a1d2-4a7e-c443-4b160255c575",
        "colab": {
          "base_uri": "https://localhost:8080/",
          "height": 726
        }
      },
      "source": [
        "!pip install -U fastai"
      ],
      "execution_count": 9,
      "outputs": [
        {
          "output_type": "stream",
          "text": [
            "Requirement already up-to-date: fastai in /usr/local/lib/python3.6/dist-packages (2.0.13)\n",
            "Requirement already satisfied, skipping upgrade: pip in /usr/local/lib/python3.6/dist-packages (from fastai) (19.3.1)\n",
            "Requirement already satisfied, skipping upgrade: pillow in /usr/local/lib/python3.6/dist-packages (from fastai) (7.0.0)\n",
            "Requirement already satisfied, skipping upgrade: torch>=1.6.0 in /usr/local/lib/python3.6/dist-packages (from fastai) (1.6.0+cu101)\n",
            "Requirement already satisfied, skipping upgrade: pyyaml in /usr/local/lib/python3.6/dist-packages (from fastai) (3.13)\n",
            "Requirement already satisfied, skipping upgrade: spacy in /usr/local/lib/python3.6/dist-packages (from fastai) (2.2.4)\n",
            "Requirement already satisfied, skipping upgrade: packaging in /usr/local/lib/python3.6/dist-packages (from fastai) (20.4)\n",
            "Requirement already satisfied, skipping upgrade: matplotlib in /usr/local/lib/python3.6/dist-packages (from fastai) (3.2.2)\n",
            "Requirement already satisfied, skipping upgrade: fastcore>=1.0.5 in /usr/local/lib/python3.6/dist-packages (from fastai) (1.0.15)\n",
            "Requirement already satisfied, skipping upgrade: requests in /usr/local/lib/python3.6/dist-packages (from fastai) (2.23.0)\n",
            "Requirement already satisfied, skipping upgrade: scikit-learn in /usr/local/lib/python3.6/dist-packages (from fastai) (0.22.2.post1)\n",
            "Requirement already satisfied, skipping upgrade: fastprogress>=0.2.4 in /usr/local/lib/python3.6/dist-packages (from fastai) (1.0.0)\n",
            "Requirement already satisfied, skipping upgrade: scipy in /usr/local/lib/python3.6/dist-packages (from fastai) (1.4.1)\n",
            "Requirement already satisfied, skipping upgrade: pandas in /usr/local/lib/python3.6/dist-packages (from fastai) (1.0.5)\n",
            "Requirement already satisfied, skipping upgrade: torchvision>=0.7 in /usr/local/lib/python3.6/dist-packages (from fastai) (0.7.0+cu101)\n",
            "Requirement already satisfied, skipping upgrade: numpy in /usr/local/lib/python3.6/dist-packages (from torch>=1.6.0->fastai) (1.18.5)\n",
            "Requirement already satisfied, skipping upgrade: future in /usr/local/lib/python3.6/dist-packages (from torch>=1.6.0->fastai) (0.16.0)\n",
            "Requirement already satisfied, skipping upgrade: blis<0.5.0,>=0.4.0 in /usr/local/lib/python3.6/dist-packages (from spacy->fastai) (0.4.1)\n",
            "Requirement already satisfied, skipping upgrade: preshed<3.1.0,>=3.0.2 in /usr/local/lib/python3.6/dist-packages (from spacy->fastai) (3.0.2)\n",
            "Requirement already satisfied, skipping upgrade: murmurhash<1.1.0,>=0.28.0 in /usr/local/lib/python3.6/dist-packages (from spacy->fastai) (1.0.2)\n",
            "Requirement already satisfied, skipping upgrade: tqdm<5.0.0,>=4.38.0 in /usr/local/lib/python3.6/dist-packages (from spacy->fastai) (4.41.1)\n",
            "Requirement already satisfied, skipping upgrade: wasabi<1.1.0,>=0.4.0 in /usr/local/lib/python3.6/dist-packages (from spacy->fastai) (0.8.0)\n",
            "Requirement already satisfied, skipping upgrade: catalogue<1.1.0,>=0.0.7 in /usr/local/lib/python3.6/dist-packages (from spacy->fastai) (1.0.0)\n",
            "Requirement already satisfied, skipping upgrade: thinc==7.4.0 in /usr/local/lib/python3.6/dist-packages (from spacy->fastai) (7.4.0)\n",
            "Requirement already satisfied, skipping upgrade: srsly<1.1.0,>=1.0.2 in /usr/local/lib/python3.6/dist-packages (from spacy->fastai) (1.0.2)\n",
            "Requirement already satisfied, skipping upgrade: plac<1.2.0,>=0.9.6 in /usr/local/lib/python3.6/dist-packages (from spacy->fastai) (1.1.3)\n",
            "Requirement already satisfied, skipping upgrade: cymem<2.1.0,>=2.0.2 in /usr/local/lib/python3.6/dist-packages (from spacy->fastai) (2.0.3)\n",
            "Requirement already satisfied, skipping upgrade: setuptools in /usr/local/lib/python3.6/dist-packages (from spacy->fastai) (50.3.0)\n",
            "Requirement already satisfied, skipping upgrade: six in /usr/local/lib/python3.6/dist-packages (from packaging->fastai) (1.15.0)\n",
            "Requirement already satisfied, skipping upgrade: pyparsing>=2.0.2 in /usr/local/lib/python3.6/dist-packages (from packaging->fastai) (2.4.7)\n",
            "Requirement already satisfied, skipping upgrade: cycler>=0.10 in /usr/local/lib/python3.6/dist-packages (from matplotlib->fastai) (0.10.0)\n",
            "Requirement already satisfied, skipping upgrade: python-dateutil>=2.1 in /usr/local/lib/python3.6/dist-packages (from matplotlib->fastai) (2.8.1)\n",
            "Requirement already satisfied, skipping upgrade: kiwisolver>=1.0.1 in /usr/local/lib/python3.6/dist-packages (from matplotlib->fastai) (1.2.0)\n",
            "Requirement already satisfied, skipping upgrade: certifi>=2017.4.17 in /usr/local/lib/python3.6/dist-packages (from requests->fastai) (2020.6.20)\n",
            "Requirement already satisfied, skipping upgrade: idna<3,>=2.5 in /usr/local/lib/python3.6/dist-packages (from requests->fastai) (2.10)\n",
            "Requirement already satisfied, skipping upgrade: chardet<4,>=3.0.2 in /usr/local/lib/python3.6/dist-packages (from requests->fastai) (3.0.4)\n",
            "Requirement already satisfied, skipping upgrade: urllib3!=1.25.0,!=1.25.1,<1.26,>=1.21.1 in /usr/local/lib/python3.6/dist-packages (from requests->fastai) (1.24.3)\n",
            "Requirement already satisfied, skipping upgrade: joblib>=0.11 in /usr/local/lib/python3.6/dist-packages (from scikit-learn->fastai) (0.16.0)\n",
            "Requirement already satisfied, skipping upgrade: pytz>=2017.2 in /usr/local/lib/python3.6/dist-packages (from pandas->fastai) (2018.9)\n",
            "Requirement already satisfied, skipping upgrade: importlib-metadata>=0.20; python_version < \"3.8\" in /usr/local/lib/python3.6/dist-packages (from catalogue<1.1.0,>=0.0.7->spacy->fastai) (1.7.0)\n",
            "Requirement already satisfied, skipping upgrade: zipp>=0.5 in /usr/local/lib/python3.6/dist-packages (from importlib-metadata>=0.20; python_version < \"3.8\"->catalogue<1.1.0,>=0.0.7->spacy->fastai) (3.1.0)\n"
          ],
          "name": "stdout"
        }
      ]
    },
    {
      "cell_type": "markdown",
      "metadata": {
        "id": "SstypeivMBAs"
      },
      "source": [
        "Nun können wir die erforderlichen Klassen importieren:"
      ]
    },
    {
      "cell_type": "code",
      "metadata": {
        "id": "z-dMxrRrC6gO"
      },
      "source": [
        "import ipywidgets as widgets\n",
        "from fastai.vision.all import *"
      ],
      "execution_count": 10,
      "outputs": []
    },
    {
      "cell_type": "markdown",
      "metadata": {
        "id": "4AJP0FApMEn3"
      },
      "source": [
        "... den FileUpload-Dialog erstellen und anzeigen."
      ]
    },
    {
      "cell_type": "code",
      "metadata": {
        "id": "WRYpWkf6DDXN",
        "outputId": "80d84575-bbd2-4d50-937b-c076b0521dcd",
        "colab": {
          "base_uri": "https://localhost:8080/",
          "height": 49,
          "referenced_widgets": [
            "c4aa26caaccc4cc5b1d54273314adaa9",
            "7966720588614ff7aebeed10b06398e0",
            "ce123dca11864bd5a05d3517edbf5eaa"
          ]
        }
      },
      "source": [
        "uploader = widgets.FileUpload()\n",
        "uploader"
      ],
      "execution_count": 11,
      "outputs": [
        {
          "output_type": "display_data",
          "data": {
            "application/vnd.jupyter.widget-view+json": {
              "model_id": "c4aa26caaccc4cc5b1d54273314adaa9",
              "version_minor": 0,
              "version_major": 2
            },
            "text/plain": [
              "FileUpload(value={}, description='Upload')"
            ]
          },
          "metadata": {
            "tags": []
          }
        }
      ]
    },
    {
      "cell_type": "markdown",
      "metadata": {
        "id": "-Ewu88WAMJGy"
      },
      "source": [
        "Das hochgeladene Bild können wir nun über einen Zugriff auf den FileUploader verwenden und einsehen."
      ]
    },
    {
      "cell_type": "code",
      "metadata": {
        "id": "VtM_TSRrDIgd",
        "outputId": "92807376-ebee-4e34-eefd-38718003f958",
        "colab": {
          "base_uri": "https://localhost:8080/",
          "height": 205
        }
      },
      "source": [
        "img = PILImage.create(uploader.data[0])\n",
        "img.show()"
      ],
      "execution_count": 12,
      "outputs": [
        {
          "output_type": "execute_result",
          "data": {
            "text/plain": [
              "<matplotlib.axes._subplots.AxesSubplot at 0x7fc19e047a20>"
            ]
          },
          "metadata": {
            "tags": []
          },
          "execution_count": 12
        },
        {
          "output_type": "display_data",
          "data": {
            "image/png": "[encoded data removed]",
            "text/plain": [
              "<Figure size 360x360 with 1 Axes>"
            ]
          },
          "metadata": {
            "tags": [],
            "needs_background": "light"
          }
        }
      ]
    },
    {
      "cell_type": "code",
      "metadata": {
        "id": "0rzZiqgtHpem",
        "outputId": "f0af0966-4f73-42b2-8791-bc59a8d4a0e8",
        "colab": {
          "base_uri": "https://localhost:8080/",
          "height": 34
        }
      },
      "source": [
        "!ls drive"
      ],
      "execution_count": 15,
      "outputs": [
        {
          "output_type": "stream",
          "text": [
            "'My Drive'  'Shared drives'\n"
          ],
          "name": "stdout"
        }
      ]
    },
    {
      "cell_type": "code",
      "metadata": {
        "id": "bj1Fg1VPH2Pf"
      },
      "source": [
        "!cd drive"
      ],
      "execution_count": 16,
      "outputs": []
    },
    {
      "cell_type": "code",
      "metadata": {
        "id": "rtbBpCKTH_x3",
        "outputId": "1921aaed-4ab4-40ab-ae11-63a46869beff",
        "colab": {
          "base_uri": "https://localhost:8080/",
          "height": 34
        }
      },
      "source": [
        "!ls"
      ],
      "execution_count": 17,
      "outputs": [
        {
          "output_type": "stream",
          "text": [
            "drive  sample_data\n"
          ],
          "name": "stdout"
        }
      ]
    },
    {
      "cell_type": "code",
      "metadata": {
        "id": "-9ofMMjuIAy_",
        "outputId": "b5db04a6-978e-4456-e501-ccbf8884aa81",
        "colab": {
          "base_uri": "https://localhost:8080/",
          "height": 34
        }
      },
      "source": [
        "!cd drive\n",
        "!ls"
      ],
      "execution_count": 18,
      "outputs": [
        {
          "output_type": "stream",
          "text": [
            "drive  sample_data\n"
          ],
          "name": "stdout"
        }
      ]
    },
    {
      "cell_type": "code",
      "metadata": {
        "id": "76FhkH5sIF0n"
      },
      "source": [
        ""
      ],
      "execution_count": null,
      "outputs": []
    }
  ]
}